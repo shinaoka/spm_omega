{
 "cells": [
  {
   "cell_type": "code",
   "execution_count": 22,
   "metadata": {},
   "outputs": [],
   "source": [
    "#!pip3 install -U irbasis3 xprec"
   ]
  },
  {
   "cell_type": "code",
   "execution_count": 23,
   "metadata": {},
   "outputs": [],
   "source": [
    "#!pip3 install jaxlib jax"
   ]
  },
  {
   "cell_type": "code",
   "execution_count": 24,
   "metadata": {},
   "outputs": [],
   "source": [
    "import numpy as np\n",
    "%matplotlib inline\n",
    "import matplotlib.pyplot as plt\n",
    "\n",
    "plt.rcParams.update({\n",
    "    #\"text.usetex\": True,\n",
    "    \"font.family\": \"serif\",\n",
    "    \"font.size\": 16,\n",
    "    'text.latex.preamble': r\"\\usepackage{amsmath}\"\n",
    "})\n",
    "\n",
    "import irbasis3\n",
    "from numpy.polynomial.legendre import leggauss"
   ]
  },
  {
   "cell_type": "code",
   "execution_count": 25,
   "metadata": {},
   "outputs": [],
   "source": [
    "from jax.config import config\n",
    "config.update(\"jax_enable_x64\", True)\n",
    "import jax\n",
    "from jax import numpy as jnp\n",
    "from jax import grad, jit, vmap"
   ]
  },
  {
   "cell_type": "code",
   "execution_count": 26,
   "metadata": {},
   "outputs": [],
   "source": [
    "def scale_quad(x, w, xmax, xmin):\n",
    "    \"\"\" Scale weights and notes of quadrature to the interval [xmin, xmax] \"\"\"\n",
    "    assert xmin < xmax\n",
    "    dx = xmax - xmin\n",
    "    w_ = 0.5 * dx * w\n",
    "    x_ = (0.5 * dx) * (x + 1) + xmin\n",
    "    return x_, w_\n",
    "\n",
    "def _test_scale_quad():\n",
    "    \"\"\" Integrate x^3 over [3, 0] \"\"\"\n",
    "    xmax = 3\n",
    "    x_, w_ = leggauss(10)\n",
    "    x, w = scale_quad(x_, w_, xmax, 0)\n",
    "    f = lambda x: x**3\n",
    "    res = np.sum(w * f(x))\n",
    "    ref = 0.25*(xmax**4)\n",
    "    assert np.abs(res - ref) < 1e-10\n",
    "\n",
    "_test_scale_quad()"
   ]
  },
  {
   "cell_type": "code",
   "execution_count": 27,
   "metadata": {},
   "outputs": [],
   "source": [
    "gtau_ = np.loadtxt(\"Gtau.in\")\n",
    "taus = gtau_[:,0]\n",
    "gtau = gtau_[:,1]"
   ]
  },
  {
   "cell_type": "code",
   "execution_count": 28,
   "metadata": {},
   "outputs": [
    {
     "name": "stdout",
     "output_type": "stream",
     "text": [
      "1.7.3\n",
      "0.0\n"
     ]
    }
   ],
   "source": [
    "dos_ = np.loadtxt(\"Gtau.in.dos\")\n",
    "omegas = dos_[:,0]\n",
    "dos = dos_[:,1]\n",
    "\n",
    "import scipy\n",
    "from scipy.interpolate import interp1d\n",
    "rho = interp1d(omegas, dos, fill_value=(0,0), bounds_error=False)\n",
    "print(scipy.__version__)\n",
    "print(rho(100))"
   ]
  },
  {
   "cell_type": "code",
   "execution_count": 29,
   "metadata": {},
   "outputs": [
    {
     "name": "stdout",
     "output_type": "stream",
     "text": [
      "wmax 8.0\n",
      "beta 100.0\n",
      "dim 68\n"
     ]
    },
    {
     "data": {
      "text/plain": [
       "array([1.00000000e+00, 9.16847626e-01, 6.72789028e-01, 5.32063079e-01,\n",
       "       3.74750213e-01, 2.71244943e-01, 1.88071606e-01, 1.30556635e-01,\n",
       "       8.90362703e-02, 6.03464930e-02, 4.04843415e-02, 2.69633621e-02,\n",
       "       1.78186816e-02, 1.16946959e-02, 7.62387402e-03, 4.93866227e-03,\n",
       "       3.17970019e-03, 2.03523080e-03, 1.29531923e-03, 8.19889907e-04,\n",
       "       5.16202256e-04, 3.23321005e-04, 2.01490947e-04, 1.24950446e-04,\n",
       "       7.71133187e-05, 4.73669219e-05, 2.89612045e-05, 1.76275635e-05,\n",
       "       1.06816423e-05, 6.44447183e-06, 3.87143090e-06, 2.31590090e-06,\n",
       "       1.37962270e-06, 8.18499875e-07, 4.83636846e-07, 2.84633381e-07,\n",
       "       1.66855275e-07, 9.74322075e-08, 5.66752462e-08, 3.28421337e-08,\n",
       "       1.89598235e-08, 1.09048387e-08, 6.24888466e-09, 3.56779273e-09,\n",
       "       2.02966996e-09, 1.15051993e-09, 6.49859383e-10, 3.65775164e-10,\n",
       "       2.05159258e-10, 1.14673251e-10, 6.38761548e-11, 3.54594615e-11,\n",
       "       1.96179177e-11, 1.08171125e-11, 5.94452763e-12, 3.25597036e-12,\n",
       "       1.77750085e-12, 9.67195660e-13, 5.24568928e-13, 2.83584670e-13,\n",
       "       1.52813908e-13, 8.20825194e-14, 4.39494649e-14, 2.34573443e-14,\n",
       "       1.24805409e-14, 6.61948276e-15, 3.49991362e-15, 1.84475868e-15])"
      ]
     },
     "execution_count": 29,
     "metadata": {},
     "output_type": "execute_result"
    }
   ],
   "source": [
    "beta = 100.0\n",
    "wmax = np.amax(np.abs(omegas)) * 2\n",
    "print(\"wmax\", wmax)\n",
    "print(\"beta\", beta)\n",
    "lambda_ = wmax * beta\n",
    "K = irbasis3.KernelFFlat(lambda_=lambda_)\n",
    "basis = irbasis3.FiniteTempBasis(\n",
    "    K, statistics='F', beta=beta, eps=1e-15)\n",
    "print(\"dim\", basis.size)\n",
    "basis.s/basis.s[0]"
   ]
  },
  {
   "cell_type": "code",
   "execution_count": 30,
   "metadata": {},
   "outputs": [],
   "source": [
    "dim = basis.size\n",
    "u = basis.u\n",
    "v = basis.v\n",
    "svals = basis.s"
   ]
  },
  {
   "cell_type": "code",
   "execution_count": 31,
   "metadata": {},
   "outputs": [
    {
     "data": {
      "text/plain": [
       "array([-8.        , -7.95197133, -7.75222533, -7.41314435, -6.96474427,\n",
       "       -6.44200351, -5.87915276, -5.30568771, -4.74443142, -4.21129288,\n",
       "       -3.71607999, -3.26376869, -2.85581858, -2.49131889, -2.16788848,\n",
       "       -1.88233316, -1.63109871, -1.41056721, -1.2172403 , -1.04784477,\n",
       "       -0.89938695, -0.76917474, -0.65481989, -0.5542288 , -0.46558671,\n",
       "       -0.38733832, -0.31816674, -0.25697241, -0.2028539 , -0.15509354,\n",
       "       -0.11315368, -0.07670247, -0.0457235 , -0.02052408,  0.        ,\n",
       "        0.02052408,  0.0457235 ,  0.07670247,  0.11315368,  0.15509354,\n",
       "        0.2028539 ,  0.25697241,  0.31816674,  0.38733832,  0.46558671,\n",
       "        0.5542288 ,  0.65481989,  0.76917474,  0.89938695,  1.04784477,\n",
       "        1.2172403 ,  1.41056721,  1.63109871,  1.88233316,  2.16788848,\n",
       "        2.49131889,  2.85581858,  3.26376869,  3.71607999,  4.21129288,\n",
       "        4.74443142,  5.30568771,  5.87915276,  6.44200351,  6.96474427,\n",
       "        7.41314435,  7.75222533,  7.95197133,  8.        ])"
      ]
     },
     "execution_count": 31,
     "metadata": {},
     "output_type": "execute_result"
    }
   ],
   "source": [
    "roots = v[-1].roots()\n",
    "smpl_points = np.hstack((-wmax, roots, wmax))\n",
    "nsp = smpl_points.size\n",
    "smpl_points"
   ]
  },
  {
   "cell_type": "code",
   "execution_count": 32,
   "metadata": {},
   "outputs": [],
   "source": [
    "# Projector from sampled values to \\int dw rho(w)\n",
    "prj_sum_rule = np.zeros(nsp)\n",
    "for s in range(nsp-1):\n",
    "    tmp = 0.5 * (smpl_points[s+1] - smpl_points[s])\n",
    "    prj_sum_rule[s] += tmp\n",
    "    prj_sum_rule[s+1] += tmp"
   ]
  },
  {
   "cell_type": "code",
   "execution_count": 33,
   "metadata": {},
   "outputs": [
    {
     "name": "stdout",
     "output_type": "stream",
     "text": [
      "[-7.99937338 -7.99675959 -7.99230123 -7.98639337 -7.97956078 -7.97241055\n",
      " -7.96557796 -7.9596701  -7.95521175 -7.95259795]\n",
      "[-7.9493653  -7.93849481 -7.919953   -7.89538283 -7.86696686 -7.83722981\n",
      " -7.80881383 -7.78424366 -7.76570186 -7.75483137]\n",
      "[-7.74780143 -7.72934811 -7.69787227 -7.65616291 -7.60792507 -7.55744461\n",
      " -7.50920677 -7.46749741 -7.43602157 -7.41756825]\n",
      "[-7.40729419 -7.38289155 -7.34126796 -7.28611157 -7.22232194 -7.15556667\n",
      " -7.09177704 -7.03662066 -6.99499707 -6.97059443]\n",
      "[-6.95792421 -6.92947583 -6.88095142 -6.81665061 -6.74228523 -6.66446254\n",
      " -6.59009717 -6.52579635 -6.47727195 -6.44882357]\n",
      "[-6.43466014 -6.40402891 -6.35178122 -6.28254659 -6.20247515 -6.11868111\n",
      " -6.03860967 -5.96937504 -5.91712735 -5.88649612]\n",
      "[-5.87167091 -5.84046203 -5.78722905 -5.71668879 -5.63510735 -5.54973312\n",
      " -5.46815168 -5.39761141 -5.34437843 -5.31316956]\n",
      "[-5.29836515 -5.26782069 -5.21572101 -5.14668251 -5.06683789 -4.98328124\n",
      " -4.90343662 -4.83439812 -4.78229844 -4.75175398]\n",
      "[-4.7374757  -4.70846146 -4.65897186 -4.59339204 -4.51754747 -4.43817682\n",
      " -4.36233225 -4.29675244 -4.24726284 -4.2182486 ]\n",
      "[-4.20483197 -4.1778817  -4.13191262 -4.07099793 -4.00054868 -3.92682419\n",
      " -3.85637494 -3.79546024 -3.74949117 -3.7225409 ]\n",
      "[-3.7101788  -3.68556331 -3.64357665 -3.58793916 -3.52359311 -3.45625557\n",
      " -3.39190952 -3.33627203 -3.29428537 -3.26966988]\n",
      "[-3.25844627 -3.23624498 -3.19837624 -3.14819549 -3.09016029 -3.02942698\n",
      " -2.97139179 -2.92121103 -2.88334229 -2.861141  ]\n",
      "[-2.85106305 -2.8312264  -2.79739102 -2.75255498 -2.70070106 -2.64643641\n",
      " -2.59458249 -2.54974644 -2.51591107 -2.49607442]\n",
      "[-2.48709918 -2.46949758 -2.43947454 -2.39969031 -2.35367893 -2.30552844\n",
      " -2.25951706 -2.21973283 -2.18970979 -2.17210819]\n",
      "[-2.16416292 -2.14862254 -2.12211533 -2.08699    -2.04636675 -2.00385489\n",
      " -1.96323164 -1.92810631 -1.9015991  -1.88605872]\n",
      "[-1.87905537 -1.86538279 -1.84206148 -1.81115786 -1.77541711 -1.73801475\n",
      " -1.70227401 -1.67137039 -1.64804907 -1.6343765 ]\n",
      "[-1.62822149 -1.61621982 -1.59574856 -1.56862163 -1.5372487  -1.50441722\n",
      " -1.47304429 -1.44591735 -1.4254461  -1.41344443]\n",
      "[-1.40804492 -1.39752377 -1.37957783 -1.35579725 -1.32829446 -1.29951305\n",
      " -1.27201026 -1.24822968 -1.23028374 -1.21976259]\n",
      "[-1.21503024 -1.20581147 -1.19008701 -1.16925016 -1.14515186 -1.11993321\n",
      " -1.09583492 -1.07499807 -1.0592736  -1.05005483]\n",
      "[-1.04590788 -1.03782857 -1.02404769 -1.00578633 -0.98466664 -0.96256508\n",
      " -0.9414454  -0.92318403 -0.90940315 -0.90132384]\n",
      "[-0.89768811 -0.89060176 -0.87851456 -0.86249753 -0.84397348 -0.82458822\n",
      " -0.80606416 -0.79004713 -0.77795994 -0.77087358]\n",
      "[-0.76768278 -0.76145941 -0.7508442  -0.73677775 -0.72050956 -0.70348506\n",
      " -0.68721688 -0.67315042 -0.66253522 -0.65631184]\n",
      "[-0.6535075  -0.64803317 -0.63869562 -0.6263222  -0.61201206 -0.59703662\n",
      " -0.58272648 -0.57035307 -0.56101551 -0.55554118]\n",
      "[-0.55307231 -0.54824826 -0.54001989 -0.52911629 -0.51650602 -0.50330949\n",
      " -0.49069922 -0.47979561 -0.47156724 -0.4667432 ]\n",
      "[-0.46456582 -0.46030742 -0.45304387 -0.44341876 -0.43228711 -0.42063793\n",
      " -0.40950627 -0.39988117 -0.39261761 -0.38835921]\n",
      "[-0.38643586 -0.38267143 -0.37625045 -0.36774186 -0.35790147 -0.3476036\n",
      " -0.33776321 -0.32925462 -0.32283363 -0.31906921]\n",
      "[-0.31736836 -0.31403806 -0.30835758 -0.30083025 -0.29212471 -0.28301444\n",
      " -0.2743089  -0.26678156 -0.26110108 -0.25777079]\n",
      "[-0.25626634 -0.25332112 -0.24829747 -0.24164051 -0.23394158 -0.22588473\n",
      " -0.2181858  -0.21152884 -0.20650519 -0.20355997]\n",
      "[-0.20223079 -0.19963159 -0.19519815 -0.18932328 -0.18252887 -0.17541858\n",
      " -0.16862416 -0.1627493  -0.15831585 -0.15571666]\n",
      "[-0.15454637 -0.15226393 -0.14837078 -0.14321188 -0.1372455  -0.13100173\n",
      " -0.12503534 -0.11987644 -0.11598329 -0.11370086]\n",
      "[-0.11267811 -0.11069438 -0.10731072 -0.10282697 -0.0976414  -0.09221475\n",
      " -0.08702918 -0.08254543 -0.07916177 -0.07717804]\n",
      "[-0.0762983  -0.07461237 -0.07173669 -0.06792606 -0.06351897 -0.058907\n",
      " -0.05449991 -0.05068928 -0.0478136  -0.04612767]\n",
      "[-0.04539473 -0.04402334 -0.04168415 -0.03858445 -0.03499956 -0.03124802\n",
      " -0.02766313 -0.02456343 -0.02222424 -0.02085285]\n",
      "[-0.02025631 -0.01913935 -0.01723417 -0.01470956 -0.01178979 -0.00873429\n",
      " -0.00581452 -0.00328991 -0.00138473 -0.00026777]\n",
      "[0.00026777 0.00138473 0.00328991 0.00581452 0.00873429 0.01178979\n",
      " 0.01470956 0.01723417 0.01913935 0.02025631]\n",
      "[0.02085285 0.02222424 0.02456343 0.02766313 0.03124802 0.03499956\n",
      " 0.03858445 0.04168415 0.04402334 0.04539473]\n",
      "[0.04612767 0.0478136  0.05068928 0.05449991 0.058907   0.06351897\n",
      " 0.06792606 0.07173669 0.07461237 0.0762983 ]\n",
      "[0.07717804 0.07916177 0.08254543 0.08702918 0.09221475 0.0976414\n",
      " 0.10282697 0.10731072 0.11069438 0.11267811]\n",
      "[0.11370086 0.11598329 0.11987644 0.12503534 0.13100173 0.1372455\n",
      " 0.14321188 0.14837078 0.15226393 0.15454637]\n",
      "[0.15571666 0.15831585 0.1627493  0.16862416 0.17541858 0.18252887\n",
      " 0.18932328 0.19519815 0.19963159 0.20223079]\n",
      "[0.20355997 0.20650519 0.21152884 0.2181858  0.22588473 0.23394158\n",
      " 0.24164051 0.24829747 0.25332112 0.25626634]\n",
      "[0.25777079 0.26110108 0.26678156 0.2743089  0.28301444 0.29212471\n",
      " 0.30083025 0.30835758 0.31403806 0.31736836]\n",
      "[0.31906921 0.32283363 0.32925462 0.33776321 0.3476036  0.35790147\n",
      " 0.36774186 0.37625045 0.38267143 0.38643586]\n",
      "[0.38835921 0.39261761 0.39988117 0.40950627 0.42063793 0.43228711\n",
      " 0.44341876 0.45304387 0.46030742 0.46456582]\n",
      "[0.4667432  0.47156724 0.47979561 0.49069922 0.50330949 0.51650602\n",
      " 0.52911629 0.54001989 0.54824826 0.55307231]\n",
      "[0.55554118 0.56101551 0.57035307 0.58272648 0.59703662 0.61201206\n",
      " 0.6263222  0.63869562 0.64803317 0.6535075 ]\n",
      "[0.65631184 0.66253522 0.67315042 0.68721688 0.70348506 0.72050956\n",
      " 0.73677775 0.7508442  0.76145941 0.76768278]\n",
      "[0.77087358 0.77795994 0.79004713 0.80606416 0.82458822 0.84397348\n",
      " 0.86249753 0.87851456 0.89060176 0.89768811]\n",
      "[0.90132384 0.90940315 0.92318403 0.9414454  0.96256508 0.98466664\n",
      " 1.00578633 1.02404769 1.03782857 1.04590788]\n",
      "[1.05005483 1.0592736  1.07499807 1.09583492 1.11993321 1.14515186\n",
      " 1.16925016 1.19008701 1.20581147 1.21503024]\n",
      "[1.21976259 1.23028374 1.24822968 1.27201026 1.29951305 1.32829446\n",
      " 1.35579725 1.37957783 1.39752377 1.40804492]\n",
      "[1.41344443 1.4254461  1.44591735 1.47304429 1.50441722 1.5372487\n",
      " 1.56862163 1.59574856 1.61621982 1.62822149]\n",
      "[1.6343765  1.64804907 1.67137039 1.70227401 1.73801475 1.77541711\n",
      " 1.81115786 1.84206148 1.86538279 1.87905537]\n",
      "[1.88605872 1.9015991  1.92810631 1.96323164 2.00385489 2.04636675\n",
      " 2.08699    2.12211533 2.14862254 2.16416292]\n",
      "[2.17210819 2.18970979 2.21973283 2.25951706 2.30552844 2.35367893\n",
      " 2.39969031 2.43947454 2.46949758 2.48709918]\n",
      "[2.49607442 2.51591107 2.54974644 2.59458249 2.64643641 2.70070106\n",
      " 2.75255498 2.79739102 2.8312264  2.85106305]\n",
      "[2.861141   2.88334229 2.92121103 2.97139179 3.02942698 3.09016029\n",
      " 3.14819549 3.19837624 3.23624498 3.25844627]\n",
      "[3.26966988 3.29428537 3.33627203 3.39190952 3.45625557 3.52359311\n",
      " 3.58793916 3.64357665 3.68556331 3.7101788 ]\n",
      "[3.7225409  3.74949117 3.79546024 3.85637494 3.92682419 4.00054868\n",
      " 4.07099793 4.13191262 4.1778817  4.20483197]\n",
      "[4.2182486  4.24726284 4.29675244 4.36233225 4.43817682 4.51754747\n",
      " 4.59339204 4.65897186 4.70846146 4.7374757 ]\n",
      "[4.75175398 4.78229844 4.83439812 4.90343662 4.98328124 5.06683789\n",
      " 5.14668251 5.21572101 5.26782069 5.29836515]\n",
      "[5.31316956 5.34437843 5.39761141 5.46815168 5.54973312 5.63510735\n",
      " 5.71668879 5.78722905 5.84046203 5.87167091]\n",
      "[5.88649612 5.91712735 5.96937504 6.03860967 6.11868111 6.20247515\n",
      " 6.28254659 6.35178122 6.40402891 6.43466014]\n",
      "[6.44882357 6.47727195 6.52579635 6.59009717 6.66446254 6.74228523\n",
      " 6.81665061 6.88095142 6.92947583 6.95792421]\n",
      "[6.97059443 6.99499707 7.03662066 7.09177704 7.15556667 7.22232194\n",
      " 7.28611157 7.34126796 7.38289155 7.40729419]\n",
      "[7.41756825 7.43602157 7.46749741 7.50920677 7.55744461 7.60792507\n",
      " 7.65616291 7.69787227 7.72934811 7.74780143]\n",
      "[7.75483137 7.76570186 7.78424366 7.80881383 7.83722981 7.86696686\n",
      " 7.89538283 7.919953   7.93849481 7.9493653 ]\n",
      "[7.95259795 7.95521175 7.9596701  7.96557796 7.97241055 7.97956078\n",
      " 7.98639337 7.99230123 7.99675959 7.99937338]\n",
      "cond:  20.317153656555448\n"
     ]
    }
   ],
   "source": [
    "# Projector from sampled values to rho_l\n",
    "prj = np.zeros((svals.size, nsp))\n",
    "\n",
    "x_, w_ = leggauss(10)\n",
    "\n",
    "for s in range(nsp-1):\n",
    "    x, w = scale_quad(x_, w_, smpl_points[s+1], smpl_points[s])\n",
    "    dx = smpl_points[s+1] - smpl_points[s]\n",
    "    f = (x - smpl_points[s])/dx\n",
    "    g = ( smpl_points[s+1] - x)/dx\n",
    "    print(x)\n",
    "    for l in range(svals.size):\n",
    "        prj[l, s+1] += np.sum(w * v[l](x) * f)\n",
    "        prj[l, s] += np.sum(w * v[l](x) * g)\n",
    "\n",
    "print(\"cond: \", np.linalg.cond(prj))"
   ]
  },
  {
   "cell_type": "code",
   "execution_count": 34,
   "metadata": {},
   "outputs": [
    {
     "data": {
      "text/plain": [
       "[<matplotlib.lines.Line2D at 0x13ccb5eb0>]"
      ]
     },
     "execution_count": 34,
     "metadata": {},
     "output_type": "execute_result"
    },
    {
     "data": {
      "image/png": "[encoded data removed]",
      "text/plain": [
       "<Figure size 432x288 with 1 Axes>"
      ]
     },
     "metadata": {
      "needs_background": "light"
     },
     "output_type": "display_data"
    }
   ],
   "source": [
    "plt.xlabel(\"omega\")\n",
    "plt.ylabel(\"dos\")\n",
    "plt.plot(omegas, dos)"
   ]
  },
  {
   "cell_type": "code",
   "execution_count": 35,
   "metadata": {},
   "outputs": [
    {
     "name": "stdout",
     "output_type": "stream",
     "text": [
      "[-7.99999977 -7.99999878 -7.999997   ...  7.999997    7.99999878\n",
      "  7.99999977]\n"
     ]
    },
    {
     "data": {
      "text/plain": [
       "[<matplotlib.lines.Line2D at 0x13cd670a0>]"
      ]
     },
     "execution_count": 35,
     "metadata": {},
     "output_type": "execute_result"
    },
    {
     "data": {
      "image/png": "[encoded data removed]",
      "text/plain": [
       "<Figure size 432x288 with 1 Axes>"
      ]
     },
     "metadata": {
      "needs_background": "light"
     },
     "output_type": "display_data"
    }
   ],
   "source": [
    "# Expand the spectral function in IR\n",
    "x_, w_ = leggauss(10000)\n",
    "x, w = scale_quad(x_, w_, wmax, -wmax)\n",
    "all_l = np.arange(svals.size)\n",
    "\n",
    "print(x)\n",
    "rhol = np.einsum('lw,w,w->l', v.value(all_l[:,None], x[None,:]), w, rho(x), optimize=True)\n",
    "\n",
    "plt.semilogy(np.abs(rhol)[::2])"
   ]
  },
  {
   "cell_type": "code",
   "execution_count": 36,
   "metadata": {},
   "outputs": [
    {
     "data": {
      "text/plain": [
       "[<matplotlib.lines.Line2D at 0x13ce040d0>]"
      ]
     },
     "execution_count": 36,
     "metadata": {},
     "output_type": "execute_result"
    },
    {
     "data": {
      "image/png": "[encoded data removed]",
      "text/plain": [
       "<Figure size 432x288 with 1 Axes>"
      ]
     },
     "metadata": {
      "needs_background": "light"
     },
     "output_type": "display_data"
    }
   ],
   "source": [
    "# Compute rho_l using projector\n",
    "rhol2 = prj @ rho(smpl_points)\n",
    "\n",
    "plt.semilogy(np.abs(rhol))\n",
    "plt.semilogy(np.abs(rhol2))"
   ]
  },
  {
   "cell_type": "code",
   "execution_count": 37,
   "metadata": {},
   "outputs": [
    {
     "data": {
      "text/plain": [
       "[<matplotlib.lines.Line2D at 0x13cf1f310>]"
      ]
     },
     "execution_count": 37,
     "metadata": {},
     "output_type": "execute_result"
    },
    {
     "data": {
      "image/png": "[encoded data removed]",
      "text/plain": [
       "<Figure size 432x288 with 1 Axes>"
      ]
     },
     "metadata": {
      "needs_background": "light"
     },
     "output_type": "display_data"
    }
   ],
   "source": [
    "rho_reconst = np.einsum('lw,l->w', v.value(all_l[:,None], omegas[None,:]), rhol)\n",
    "\n",
    "plt.plot(omegas, rho_reconst)\n",
    "plt.plot(omegas, rho(omegas))"
   ]
  },
  {
   "cell_type": "code",
   "execution_count": 38,
   "metadata": {},
   "outputs": [
    {
     "data": {
      "text/plain": [
       "[<matplotlib.lines.Line2D at 0x13cf87d30>]"
      ]
     },
     "execution_count": 38,
     "metadata": {},
     "output_type": "execute_result"
    },
    {
     "data": {
      "image/png": "[encoded data removed]",
      "text/plain": [
       "<Figure size 432x288 with 1 Axes>"
      ]
     },
     "metadata": {
      "needs_background": "light"
     },
     "output_type": "display_data"
    }
   ],
   "source": [
    "gl = - svals * rhol\n",
    "plt.semilogy(np.abs(gl)[::2])"
   ]
  },
  {
   "cell_type": "markdown",
   "metadata": {},
   "source": [
    "$$\n",
    "\\frac{1}{2} \\sum_l |g_l + S_l \\rho_l|^2 + \\lambda \\sum_l |\\rho_l|\n",
    "$$"
   ]
  },
  {
   "cell_type": "markdown",
   "metadata": {},
   "source": []
  },
  {
   "cell_type": "code",
   "execution_count": 49,
   "metadata": {},
   "outputs": [],
   "source": [
    "from scipy.optimize import minimize\n",
    "\n",
    "reg = 1e-8\n",
    "\n",
    "def _cost2(gl, b_omega, reg):\n",
    "    rho_omega = b_omega**2\n",
    "    rhol = prj @ rho_omega\n",
    "    return 0.5 * jnp.linalg.norm(gl + svals*rhol)**2 + reg * jnp.sum(jnp.abs(rhol))\n",
    "\n",
    "loss2 = lambda x: _cost2(gl, x, reg)\n",
    "grad_loss2 = jit(grad(loss2))"
   ]
  },
  {
   "cell_type": "code",
   "execution_count": 50,
   "metadata": {},
   "outputs": [],
   "source": [
    "r = minimize(loss2, np.sqrt(rho(smpl_points)), method='BFGS', jac=grad_loss2, tol=1e-10, options={'gtol': 1e-10})"
   ]
  },
  {
   "cell_type": "code",
   "execution_count": 54,
   "metadata": {},
   "outputs": [
    {
     "data": {
      "text/plain": [
       "[<matplotlib.lines.Line2D at 0x13ddedaf0>]"
      ]
     },
     "execution_count": 54,
     "metadata": {},
     "output_type": "execute_result"
    },
    {
     "data": {
      "image/png": "[encoded data removed]",
      "text/plain": [
       "<Figure size 432x288 with 1 Axes>"
      ]
     },
     "metadata": {
      "needs_background": "light"
     },
     "output_type": "display_data"
    }
   ],
   "source": [
    "plt.xlim([-5, 5])\n",
    "plt.plot(smpl_points, r.x**2, marker='x')\n",
    "plt.plot(omegas, rho(omegas))"
   ]
  },
  {
   "cell_type": "code",
   "execution_count": 52,
   "metadata": {},
   "outputs": [
    {
     "name": "stdout",
     "output_type": "stream",
     "text": [
      "18.41470589709876\n"
     ]
    },
    {
     "data": {
      "text/plain": [
       "[<matplotlib.lines.Line2D at 0x13dcb9070>]"
      ]
     },
     "execution_count": 52,
     "metadata": {},
     "output_type": "execute_result"
    },
    {
     "data": {
      "image/png": "[encoded data removed]",
      "text/plain": [
       "<Figure size 432x288 with 1 Axes>"
      ]
     },
     "metadata": {
      "needs_background": "light"
     },
     "output_type": "display_data"
    }
   ],
   "source": [
    "rhol_spm2 = prj @ (r.x**2)\n",
    "print(prj_sum_rule @ np.exp(r.x))\n",
    "plt.semilogy(rhol[::2], marker='o')\n",
    "plt.semilogy(rhol_spm2[::2], marker='o')"
   ]
  },
  {
   "cell_type": "code",
   "execution_count": null,
   "metadata": {},
   "outputs": [],
   "source": []
  },
  {
   "cell_type": "code",
   "execution_count": null,
   "metadata": {},
   "outputs": [],
   "source": []
  }
 ],
 "metadata": {
  "interpreter": {
   "hash": "31f2aee4e71d21fbe5cf8b01ff0e069b9275f58929596ceb00d14d90e3e16cd6"
  },
  "kernelspec": {
   "display_name": "Python 3.8.10 64-bit",
   "name": "python3"
  },
  "language_info": {
   "codemirror_mode": {
    "name": "ipython",
    "version": 3
   },
   "file_extension": ".py",
   "mimetype": "text/x-python",
   "name": "python",
   "nbconvert_exporter": "python",
   "pygments_lexer": "ipython3",
   "version": "3.9.9"
  },
  "orig_nbformat": 4
 },
 "nbformat": 4,
 "nbformat_minor": 2
}
