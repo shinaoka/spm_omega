{
 "cells": [
  {
   "cell_type": "code",
   "execution_count": 1,
   "metadata": {},
   "outputs": [
    {
     "name": "stdout",
     "output_type": "stream",
     "text": [
      "Defaulting to user installation because normal site-packages is not writeable\n",
      "Requirement already satisfied: irbasis3 in /home/shinaoka/.local/lib/python3.8/site-packages (3.0a3)\n",
      "Requirement already satisfied: xprec in /home/shinaoka/.local/lib/python3.8/site-packages (1.1.1)\n",
      "Requirement already satisfied: numpy in /home/shinaoka/.local/lib/python3.8/site-packages (from irbasis3) (1.20.0)\n",
      "Requirement already satisfied: scipy in /home/shinaoka/.local/lib/python3.8/site-packages (from irbasis3) (1.6.2)\n",
      "\u001b[33mWARNING: You are using pip version 21.2.4; however, version 21.3.1 is available.\n",
      "You should consider upgrading via the '/usr/bin/python3 -m pip install --upgrade pip' command.\u001b[0m\n"
     ]
    }
   ],
   "source": [
    "!pip install -U irbasis3 xprec"
   ]
  },
  {
   "cell_type": "code",
   "execution_count": 2,
   "metadata": {},
   "outputs": [
    {
     "name": "stdout",
     "output_type": "stream",
     "text": [
      "Defaulting to user installation because normal site-packages is not writeable\n",
      "Requirement already satisfied: jaxlib in /home/shinaoka/.local/lib/python3.8/site-packages (0.1.64)\n",
      "Requirement already satisfied: jax in /home/shinaoka/.local/lib/python3.8/site-packages (0.2.11)\n",
      "Requirement already satisfied: absl-py in /home/shinaoka/.local/lib/python3.8/site-packages (from jaxlib) (0.11.0)\n",
      "Requirement already satisfied: scipy in /home/shinaoka/.local/lib/python3.8/site-packages (from jaxlib) (1.6.2)\n",
      "Requirement already satisfied: numpy>=1.16 in /home/shinaoka/.local/lib/python3.8/site-packages (from jaxlib) (1.20.0)\n",
      "Requirement already satisfied: flatbuffers in /home/shinaoka/.local/lib/python3.8/site-packages (from jaxlib) (1.12)\n",
      "Requirement already satisfied: opt-einsum in /home/shinaoka/.local/lib/python3.8/site-packages (from jax) (3.3.0)\n",
      "Requirement already satisfied: six in /home/shinaoka/.local/lib/python3.8/site-packages (from absl-py->jaxlib) (1.15.0)\n",
      "\u001b[33mWARNING: You are using pip version 21.2.4; however, version 21.3.1 is available.\n",
      "You should consider upgrading via the '/usr/bin/python3 -m pip install --upgrade pip' command.\u001b[0m\n"
     ]
    }
   ],
   "source": [
    "!pip install jaxlib jax"
   ]
  },
  {
   "cell_type": "code",
   "execution_count": 3,
   "metadata": {},
   "outputs": [],
   "source": [
    "import numpy as np\n",
    "%matplotlib inline\n",
    "import matplotlib.pyplot as plt\n",
    "\n",
    "plt.rcParams.update({\n",
    "    \"text.usetex\": True,\n",
    "    \"font.family\": \"serif\",\n",
    "    \"font.size\": 16,\n",
    "    'text.latex.preamble': r\"\\usepackage{amsmath}\"\n",
    "})\n",
    "\n",
    "import irbasis3\n",
    "from numpy.polynomial.legendre import leggauss"
   ]
  },
  {
   "cell_type": "code",
   "execution_count": 4,
   "metadata": {},
   "outputs": [],
   "source": [
    "from jax.config import config\n",
    "config.update(\"jax_enable_x64\", True)\n",
    "import jax\n",
    "from jax import numpy as jnp\n",
    "from jax import grad, jit, vmap"
   ]
  },
  {
   "cell_type": "code",
   "execution_count": 5,
   "metadata": {},
   "outputs": [],
   "source": [
    "def scale_quad(x, w, xmax, xmin):\n",
    "    \"\"\" Scale weights and notes of quadrature to the interval [xmin, xmax] \"\"\"\n",
    "    assert xmin < xmax\n",
    "    dx = xmax - xmin\n",
    "    w_ = 0.5 * dx * w\n",
    "    x_ = (0.5 * dx) * (x + 1) + xmin\n",
    "    return x_, w_\n",
    "\n",
    "def _test_scale_quad():\n",
    "    \"\"\" Integrate x^3 over [3, 0] \"\"\"\n",
    "    xmax = 3\n",
    "    x_, w_ = leggauss(10)\n",
    "    x, w = scale_quad(x_, w_, xmax, 0)\n",
    "    f = lambda x: x**3\n",
    "    res = np.sum(w * f(x))\n",
    "    ref = 0.25*(xmax**4)\n",
    "    assert np.abs(res - ref) < 1e-10\n",
    "\n",
    "_test_scale_quad()"
   ]
  },
  {
   "cell_type": "code",
   "execution_count": 6,
   "metadata": {},
   "outputs": [
    {
     "data": {
      "text/plain": [
       "array([1.00000000e+00, 8.53837813e-01, 5.49145196e-01, 3.67374336e-01,\n",
       "       2.19553524e-01, 1.29444220e-01, 7.30944043e-02, 4.02142528e-02,\n",
       "       2.15029940e-02, 1.12086848e-02, 5.69932115e-03, 2.82957230e-03,\n",
       "       1.37249433e-03, 6.50755177e-04, 3.01730842e-04, 1.36855975e-04,\n",
       "       6.07396214e-05, 2.63844592e-05, 1.12196967e-05, 4.67141750e-06,\n",
       "       1.90467209e-06, 7.60604097e-07, 2.97524206e-07, 1.14016108e-07,\n",
       "       4.28098161e-08, 1.57509087e-08, 5.67942613e-09, 2.00720459e-09,\n",
       "       6.95375963e-10, 2.36179493e-10, 7.86528074e-11, 2.56857635e-11,\n",
       "       8.22688396e-12, 2.58465854e-12, 7.96632511e-13, 2.40915029e-13,\n",
       "       7.14967895e-14, 2.08254045e-14, 5.95461498e-15, 1.67162105e-15])"
      ]
     },
     "execution_count": 6,
     "metadata": {},
     "output_type": "execute_result"
    }
   ],
   "source": [
    "lambda_ = 100\n",
    "beta = 10\n",
    "wmax = lambda_/beta\n",
    "K = irbasis3.KernelFFlat(lambda_=100)\n",
    "basis = irbasis3.FiniteTempBasis(\n",
    "    K, statistics='F', beta=beta, eps=1e-15)\n",
    "basis.s/basis.s[0]"
   ]
  },
  {
   "cell_type": "code",
   "execution_count": 7,
   "metadata": {},
   "outputs": [],
   "source": [
    "dim = basis.size -1\n",
    "u = basis.u[0:dim]\n",
    "v = basis.v[0:dim]\n",
    "svals = basis.s[0:dim]"
   ]
  },
  {
   "cell_type": "code",
   "execution_count": 8,
   "metadata": {},
   "outputs": [
    {
     "data": {
      "text/plain": [
       "39"
      ]
     },
     "execution_count": 8,
     "metadata": {},
     "output_type": "execute_result"
    }
   ],
   "source": [
    "v.size"
   ]
  },
  {
   "cell_type": "code",
   "execution_count": 9,
   "metadata": {},
   "outputs": [
    {
     "data": {
      "text/plain": [
       "array([-9.96606291, -9.7911141 , -9.41117351, -8.85704477, -8.17524574,\n",
       "       -7.41454723, -6.61899543, -5.82394202, -5.05490653, -4.32839442,\n",
       "       -3.65368644, -3.03485455, -2.47258071, -1.96561526, -1.51188126,\n",
       "       -1.10934722, -0.75696592, -0.45604224, -0.2082582 ,  0.        ,\n",
       "        0.2082582 ,  0.45604224,  0.75696592,  1.10934722,  1.51188126,\n",
       "        1.96561526,  2.47258071,  3.03485455,  3.65368644,  4.32839442,\n",
       "        5.05490653,  5.82394202,  6.61899543,  7.41454723,  8.17524574,\n",
       "        8.85704477,  9.41117351,  9.7911141 ,  9.96606291])"
      ]
     },
     "execution_count": 9,
     "metadata": {},
     "output_type": "execute_result"
    }
   ],
   "source": [
    "roots = v[-1].roots()\n",
    "bins = np.hstack((-wmax, roots, wmax))\n",
    "mid_bins = 0.5*(bins[0:-1] + bins[1:])\n",
    "assert mid_bins.size % 2 == 1\n",
    "mid_bins"
   ]
  },
  {
   "cell_type": "code",
   "execution_count": 28,
   "metadata": {},
   "outputs": [
    {
     "name": "stdout",
     "output_type": "stream",
     "text": [
      "cond:  4.095269957384547\n"
     ]
    }
   ],
   "source": [
    "# Projector from sampled values to rho_l\n",
    "prj = np.zeros((svals.size, mid_bins.size))\n",
    "\n",
    "# Projector from sampled values to \\int dw rho(w)\n",
    "prj_sum_rule = np.zeros(mid_bins.size)\n",
    "\n",
    "x_, w_ = leggauss(10)\n",
    "\n",
    "for s in range(mid_bins.size):\n",
    "    x, w = scale_quad(x_, w_, bins[s+1], bins[s])\n",
    "    prj_sum_rule[s] += bins[s+1] - bins[s]\n",
    "    for l in range(svals.size):\n",
    "        prj[l, s] = np.sum(v[l](x) * w)\n",
    "\n",
    "print(\"cond: \", np.linalg.cond(prj))"
   ]
  },
  {
   "cell_type": "code",
   "execution_count": 29,
   "metadata": {},
   "outputs": [
    {
     "data": {
      "text/plain": [
       "[<matplotlib.lines.Line2D at 0x7f4ecd5369a0>]"
      ]
     },
     "execution_count": 29,
     "metadata": {},
     "output_type": "execute_result"
    },
    {
     "data": {
      "image/png": "[encoded data removed]",
      "text/plain": [
       "<Figure size 432x288 with 1 Axes>"
      ]
     },
     "metadata": {
      "needs_background": "light"
     },
     "output_type": "display_data"
    }
   ],
   "source": [
    "gaussian = lambda x, mu, sigma: np.exp(-((x-mu)/sigma)**2)/(np.sqrt(2*np.pi)*sigma)\n",
    "\n",
    "rho = lambda omega: 0.2*gaussian(omega, 0.0, 0.15) + \\\n",
    "    0.4*gaussian(omega, 1.0, 0.8) + 0.4*gaussian(omega, -1.0, 0.8)\n",
    "\n",
    "omegas = np.linspace(-5, 5, 1000)\n",
    "plt.xlabel(r'$\\omega$')\n",
    "plt.ylabel(r'$\\rho(\\omega)$')\n",
    "plt.plot(omegas, rho(omegas))"
   ]
  },
  {
   "cell_type": "code",
   "execution_count": 30,
   "metadata": {},
   "outputs": [
    {
     "data": {
      "text/plain": [
       "[<matplotlib.lines.Line2D at 0x7f4e7c179ee0>]"
      ]
     },
     "execution_count": 30,
     "metadata": {},
     "output_type": "execute_result"
    },
    {
     "data": {
      "image/png": "[encoded data removed]",
      "text/plain": [
       "<Figure size 432x288 with 1 Axes>"
      ]
     },
     "metadata": {
      "needs_background": "light"
     },
     "output_type": "display_data"
    }
   ],
   "source": [
    "# Expand the spectral function in IR\n",
    "x_, w_ = leggauss(10000)\n",
    "x, w = scale_quad(x_, w_, wmax, -wmax)\n",
    "all_l = np.arange(svals.size)\n",
    "\n",
    "rhol = np.einsum('lw,w,w->l', v.value(all_l[:,None], x[None,:]), w, rho(x), optimize=True)\n",
    "\n",
    "plt.semilogy(np.abs(rhol)[::2])"
   ]
  },
  {
   "cell_type": "code",
   "execution_count": 31,
   "metadata": {},
   "outputs": [
    {
     "data": {
      "text/plain": [
       "[<matplotlib.lines.Line2D at 0x7f4ecd428130>]"
      ]
     },
     "execution_count": 31,
     "metadata": {},
     "output_type": "execute_result"
    },
    {
     "data": {
      "image/png": "[encoded data removed]",
      "text/plain": [
       "<Figure size 432x288 with 1 Axes>"
      ]
     },
     "metadata": {
      "needs_background": "light"
     },
     "output_type": "display_data"
    }
   ],
   "source": [
    "# Compute rho_l using projector\n",
    "rhol2 = prj @ rho(mid_bins)\n",
    "\n",
    "plt.semilogy(np.abs(rhol)[::2])\n",
    "plt.semilogy(np.abs(rhol2)[::2])"
   ]
  },
  {
   "cell_type": "code",
   "execution_count": 32,
   "metadata": {},
   "outputs": [
    {
     "data": {
      "text/plain": [
       "[<matplotlib.lines.Line2D at 0x7f4ecd42b280>]"
      ]
     },
     "execution_count": 32,
     "metadata": {},
     "output_type": "execute_result"
    },
    {
     "data": {
      "image/png": "[encoded data removed]",
      "text/plain": [
       "<Figure size 432x288 with 1 Axes>"
      ]
     },
     "metadata": {
      "needs_background": "light"
     },
     "output_type": "display_data"
    }
   ],
   "source": [
    "rho_reconst = np.einsum('lw,l->w', v.value(all_l[:,None], omegas[None,:]), rhol)\n",
    "\n",
    "plt.plot(omegas, rho_reconst)\n",
    "plt.plot(omegas, rho(omegas))"
   ]
  },
  {
   "cell_type": "code",
   "execution_count": 33,
   "metadata": {},
   "outputs": [
    {
     "data": {
      "text/plain": [
       "[<matplotlib.lines.Line2D at 0x7f4ecd64f2e0>]"
      ]
     },
     "execution_count": 33,
     "metadata": {},
     "output_type": "execute_result"
    },
    {
     "data": {
      "image/png": "[encoded data removed]",
      "text/plain": [
       "<Figure size 432x288 with 1 Axes>"
      ]
     },
     "metadata": {
      "needs_background": "light"
     },
     "output_type": "display_data"
    }
   ],
   "source": [
    "gl = - svals * rhol\n",
    "plt.semilogy(np.abs(gl)[::2])"
   ]
  },
  {
   "cell_type": "markdown",
   "metadata": {},
   "source": [
    "$$\n",
    "\\frac{1}{2} \\sum_l |g_l + S_l \\rho_l|^2 + \\lambda \\sum_l |\\rho_l|\n",
    "$$"
   ]
  },
  {
   "cell_type": "code",
   "execution_count": 34,
   "metadata": {},
   "outputs": [],
   "source": [
    "reg = 1e-5\n",
    "\n",
    "def _cost(gl, rhol, reg):\n",
    "   return 0.5 * jnp.linalg.norm(gl + svals*rhol)**2 + reg * jnp.sum(jnp.abs(rhol))\n",
    "\n",
    "gl_dirty = gl + 1e-5*np.random.randn(gl.size)\n",
    "loss = lambda x: _cost(gl_dirty, x, reg)\n",
    "grad_loss = jit(grad(loss))"
   ]
  },
  {
   "cell_type": "code",
   "execution_count": 35,
   "metadata": {},
   "outputs": [],
   "source": [
    "from scipy.optimize import minimize\n",
    "r = minimize(loss, rhol, method='BFGS', jac=grad_loss)\n",
    "rhol_spm = r.x"
   ]
  },
  {
   "cell_type": "code",
   "execution_count": 36,
   "metadata": {},
   "outputs": [
    {
     "data": {
      "text/plain": [
       "[<matplotlib.lines.Line2D at 0x7f4e4c774c70>]"
      ]
     },
     "execution_count": 36,
     "metadata": {},
     "output_type": "execute_result"
    },
    {
     "data": {
      "image/png": "[encoded data removed]",
      "text/plain": [
       "<Figure size 432x288 with 1 Axes>"
      ]
     },
     "metadata": {
      "needs_background": "light"
     },
     "output_type": "display_data"
    }
   ],
   "source": [
    "plt.semilogy(np.abs(rhol)[::2])\n",
    "plt.semilogy(np.abs(rhol_spm)[::2])\n"
   ]
  },
  {
   "cell_type": "markdown",
   "metadata": {},
   "source": []
  },
  {
   "cell_type": "code",
   "execution_count": 37,
   "metadata": {},
   "outputs": [],
   "source": [
    "reg = 1e-14\n",
    "\n",
    "def _cost2(gl, log_rho_omega, reg):\n",
    "    rho_omega = jnp.exp(log_rho_omega)\n",
    "    rhol = prj @ rho_omega\n",
    "    return 0.5 * jnp.linalg.norm(gl + svals*rhol)**2 + reg * jnp.sum(jnp.abs(rhol))\n",
    "\n",
    "gl_dirty = gl + 1e-5*np.random.randn(gl.size)\n",
    "loss2 = lambda x: _cost2(gl_dirty, x, reg)\n",
    "grad_loss2 = jit(grad(loss2))"
   ]
  },
  {
   "cell_type": "code",
   "execution_count": 38,
   "metadata": {},
   "outputs": [],
   "source": [
    "r = minimize(loss2, np.log(rho(mid_bins)), method='BFGS', jac=grad_loss2, tol=1e-10, options={'gtol': 1e-10})"
   ]
  },
  {
   "cell_type": "code",
   "execution_count": 39,
   "metadata": {},
   "outputs": [
    {
     "data": {
      "text/plain": [
       "[<matplotlib.lines.Line2D at 0x7f4e4c693130>]"
      ]
     },
     "execution_count": 39,
     "metadata": {},
     "output_type": "execute_result"
    },
    {
     "data": {
      "image/png": "[encoded data removed]",
      "text/plain": [
       "<Figure size 432x288 with 1 Axes>"
      ]
     },
     "metadata": {
      "needs_background": "light"
     },
     "output_type": "display_data"
    }
   ],
   "source": [
    "plt.xlim([-2,2])\n",
    "plt.plot(mid_bins, np.exp(r.x), marker='x')\n",
    "plt.plot(omegas, rho(omegas))"
   ]
  },
  {
   "cell_type": "code",
   "execution_count": 40,
   "metadata": {},
   "outputs": [
    {
     "data": {
      "text/plain": [
       "[<matplotlib.lines.Line2D at 0x7f4e4c677700>]"
      ]
     },
     "execution_count": 40,
     "metadata": {},
     "output_type": "execute_result"
    },
    {
     "data": {
      "image/png": "[encoded data removed]",
      "text/plain": [
       "<Figure size 432x288 with 1 Axes>"
      ]
     },
     "metadata": {
      "needs_background": "light"
     },
     "output_type": "display_data"
    }
   ],
   "source": [
    "rhol_spm2 = prj @ np.exp(r.x)\n",
    "plt.semilogy(rhol[::2], marker='o')\n",
    "plt.semilogy(rhol_spm2[::2], marker='o')"
   ]
  },
  {
   "cell_type": "code",
   "execution_count": 45,
   "metadata": {},
   "outputs": [
    {
     "data": {
      "text/plain": [
       "0.707027127069894"
      ]
     },
     "execution_count": 45,
     "metadata": {},
     "output_type": "execute_result"
    }
   ],
   "source": [
    "np.sum(prj_sum_rule * np.exp(r.x))"
   ]
  },
  {
   "cell_type": "code",
   "execution_count": 47,
   "metadata": {},
   "outputs": [
    {
     "data": {
      "text/plain": [
       "0.7031419853305536"
      ]
     },
     "execution_count": 47,
     "metadata": {},
     "output_type": "execute_result"
    }
   ],
   "source": [
    "prj_sum_rule @ rho(mid_bins)"
   ]
  },
  {
   "cell_type": "code",
   "execution_count": null,
   "metadata": {},
   "outputs": [],
   "source": []
  }
 ],
 "metadata": {
  "interpreter": {
   "hash": "31f2aee4e71d21fbe5cf8b01ff0e069b9275f58929596ceb00d14d90e3e16cd6"
  },
  "kernelspec": {
   "display_name": "Python 3.8.10 64-bit",
   "name": "python3"
  },
  "language_info": {
   "codemirror_mode": {
    "name": "ipython",
    "version": 3
   },
   "file_extension": ".py",
   "mimetype": "text/x-python",
   "name": "python",
   "nbconvert_exporter": "python",
   "pygments_lexer": "ipython3",
   "version": "3.8.10"
  },
  "orig_nbformat": 4
 },
 "nbformat": 4,
 "nbformat_minor": 2
}
